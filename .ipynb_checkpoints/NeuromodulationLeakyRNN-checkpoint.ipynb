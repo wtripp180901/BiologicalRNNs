{
 "cells": [
  {
   "cell_type": "code",
   "execution_count": 1,
   "id": "74991daa-9c31-4e0e-9aac-0fb92c61dc2f",
   "metadata": {},
   "outputs": [],
   "source": [
    "import numpy as np\n",
    "from numpy.random import randn"
   ]
  },
  {
   "cell_type": "code",
   "execution_count": null,
   "id": "8d3377a3-41f8-45b4-9940-3b3b5c1a8059",
   "metadata": {},
   "outputs": [],
   "source": [
    "class RNN:\n",
    "    \n",
    "    def __init__(self, input_size, output_size, hidden_size=64):\n",
    "        # Weights\n",
    "        self.Whh = randn(hidden_size, hidden_size) / 1000\n",
    "        self.Wxh = randn(hidden_size, input_size) / 1000\n",
    "        self.Why = randn(output_size, hidden_size) / 1000\n",
    "    \n",
    "        # Biases\n",
    "        self.bh = np.zeros((hidden_size, 1))\n",
    "        self.by = np.zeros((output_size, 1))\n",
    "\n",
    "        # Neuronal time constant\n",
    "        self.ntc = 0.1\n",
    "    \n",
    "    def forward(self, inputs, delta_ts):\n",
    "        '''\n",
    "        Perform a forward pass of the RNN using the given inputs.\n",
    "        Returns the final output and hidden state.\n",
    "        - inputs is an array of one-hot vectors with shape (input_size, 1).\n",
    "        '''\n",
    "        h = np.zeros((self.Whh.shape[0], 1))\n",
    "        self.last_inputs = inputs\n",
    "        self.last_hs = { 0: h }\n",
    "        # Perform each step of the RNN\n",
    "        for i, x in enumerate(inputs):\n",
    "            # Added leak and neuromodulator parameterised activation function\n",
    "            h = h + (delta_ts[i]/self.ntc) * (np.tanh(self.Wxh @ x + self.Whh @ h + self.bh) - h)\n",
    "            self.last_hs[i + 1] = h\n",
    "        \n",
    "        # Compute the output\n",
    "        y = self.Why @ h + self.by\n",
    "        return y, h\n",
    "\n",
    "def neuro_activation(x, z, func, scale, offset):\n",
    "    return func(np.tranpose(z) @ (x * scale + offset))\n",
    "     "
   ]
  }
 ],
 "metadata": {
  "kernelspec": {
   "display_name": "Python 3 (ipykernel)",
   "language": "python",
   "name": "python3"
  },
  "language_info": {
   "codemirror_mode": {
    "name": "ipython",
    "version": 3
   },
   "file_extension": ".py",
   "mimetype": "text/x-python",
   "name": "python",
   "nbconvert_exporter": "python",
   "pygments_lexer": "ipython3",
   "version": "3.8.10"
  }
 },
 "nbformat": 4,
 "nbformat_minor": 5
}
